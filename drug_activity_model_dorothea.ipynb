{
 "cells": [
  {
   "cell_type": "markdown",
   "id": "6db0d234-9076-4f42-84d9-81fb914101e4",
   "metadata": {},
   "source": [
    "# CSCA 5622 Final Project - DOROTHEA Dataset Supervised Learning Model"
   ]
  },
  {
   "cell_type": "markdown",
   "id": "63c46370-2a86-44d7-8abb-2dcf28d9ab00",
   "metadata": {},
   "source": [
    "#### The DOROTHEA dataset (downloaded from UCI https://archive.ics.uci.edu/dataset/169/dorothea) contains data used for drug discovery. As possible drugs are considered, the most important consideration is if they bind to the desired receptor or not. This dataset maps potential drug substances to active (+1) or inactive (-1) depending on their binding activity to the desired receptor."
   ]
  },
  {
   "cell_type": "markdown",
   "id": "12a865db-389d-4cc0-8247-dd1dc794cf30",
   "metadata": {},
   "source": [
    "##### This dataset is altered to include probe features with no predictive power as a means to test feature selection, so this project will emphasize feature selection as a main part of the modeling."
   ]
  },
  {
   "cell_type": "code",
   "execution_count": 1,
   "id": "4cb8e4aa-7921-4f02-bbab-3d2d0b24b9ec",
   "metadata": {},
   "outputs": [],
   "source": [
    "import pandas as pd\n",
    "import numpy as np\n",
    "from mlxtend.feature_selection import SequentialFeatureSelector as sfs"
   ]
  },
  {
   "cell_type": "code",
   "execution_count": null,
   "id": "ed53bdf4-f3b1-4772-8dbe-018c7bbacdb9",
   "metadata": {},
   "outputs": [],
   "source": []
  }
 ],
 "metadata": {
  "kernelspec": {
   "display_name": "Python 3 (ipykernel)",
   "language": "python",
   "name": "python3"
  },
  "language_info": {
   "codemirror_mode": {
    "name": "ipython",
    "version": 3
   },
   "file_extension": ".py",
   "mimetype": "text/x-python",
   "name": "python",
   "nbconvert_exporter": "python",
   "pygments_lexer": "ipython3",
   "version": "3.11.7"
  }
 },
 "nbformat": 4,
 "nbformat_minor": 5
}
